{
 "cells": [
  {
   "cell_type": "code",
   "execution_count": 1,
   "id": "7990156d-04f5-463e-b471-868eb1c8c85a",
   "metadata": {
    "tags": []
   },
   "outputs": [],
   "source": [
    "import pandas as pd"
   ]
  },
  {
   "cell_type": "code",
   "execution_count": 4,
   "id": "8d47ee2f-f2ed-4af7-8f04-458dcb40cd1c",
   "metadata": {
    "tags": []
   },
   "outputs": [
    {
     "data": {
      "text/plain": [
       "Index(['Unnamed: 0', '환자ID', 'Large Lymphocyte', 'Location of herniation',\n",
       "       'ODI', '가족력', '간질성폐질환', '고혈압여부', '과거수술횟수', '당뇨여부', '말초동맥질환여부', '빈혈여부',\n",
       "       '성별', '스테로이드치료', '신부전여부', '신장', '심혈관질환', '암발병여부', '연령', '우울증여부', '입원기간',\n",
       "       '입원일자', '종양진행여부', '직업', '체중', '퇴원일자', '헤모글로빈수치', '혈전합병증여부', '환자통증정도',\n",
       "       '흡연여부', '통증기간(월)', '수술기법', '수술시간', '수술실패여부', '수술일자', '재발여부', '혈액형',\n",
       "       '전방디스크높이(mm)', '후방디스크높이(mm)', '지방축적도', 'Instability', 'MF + ES',\n",
       "       'Modic change', 'PI', 'PT', 'Seg Angle(raw)', 'Vaccum disc', '골밀도',\n",
       "       '디스크단면적', '디스크위치', '척추이동척도', '척추전방위증'],\n",
       "      dtype='object')"
      ]
     },
     "execution_count": 4,
     "metadata": {},
     "output_type": "execute_result"
    }
   ],
   "source": [
    "df_ROS=pd.read_csv('../../../datasets/RecurrenceOfSurgery.csv')\n",
    "df_ROS.columns"
   ]
  },
  {
   "cell_type": "code",
   "execution_count": 7,
   "id": "2f765104-4e39-4214-94ce-b1c9f954d9ff",
   "metadata": {
    "tags": []
   },
   "outputs": [
    {
     "data": {
      "text/html": [
       "<div>\n",
       "<style scoped>\n",
       "    .dataframe tbody tr th:only-of-type {\n",
       "        vertical-align: middle;\n",
       "    }\n",
       "\n",
       "    .dataframe tbody tr th {\n",
       "        vertical-align: top;\n",
       "    }\n",
       "\n",
       "    .dataframe thead th {\n",
       "        text-align: right;\n",
       "    }\n",
       "</style>\n",
       "<table border=\"1\" class=\"dataframe\">\n",
       "  <thead>\n",
       "    <tr style=\"text-align: right;\">\n",
       "      <th></th>\n",
       "      <th>Unnamed: 0</th>\n",
       "      <th>Large Lymphocyte</th>\n",
       "      <th>Location of herniation</th>\n",
       "      <th>ODI</th>\n",
       "      <th>가족력</th>\n",
       "      <th>간질성폐질환</th>\n",
       "      <th>고혈압여부</th>\n",
       "      <th>과거수술횟수</th>\n",
       "      <th>당뇨여부</th>\n",
       "      <th>말초동맥질환여부</th>\n",
       "      <th>...</th>\n",
       "      <th>MF + ES</th>\n",
       "      <th>Modic change</th>\n",
       "      <th>PI</th>\n",
       "      <th>PT</th>\n",
       "      <th>Seg Angle(raw)</th>\n",
       "      <th>Vaccum disc</th>\n",
       "      <th>골밀도</th>\n",
       "      <th>디스크단면적</th>\n",
       "      <th>디스크위치</th>\n",
       "      <th>척추전방위증</th>\n",
       "    </tr>\n",
       "  </thead>\n",
       "  <tbody>\n",
       "    <tr>\n",
       "      <th>count</th>\n",
       "      <td>1894.000000</td>\n",
       "      <td>1894.000000</td>\n",
       "      <td>1894.000000</td>\n",
       "      <td>462.000000</td>\n",
       "      <td>1843.000000</td>\n",
       "      <td>1894.000000</td>\n",
       "      <td>1894.000000</td>\n",
       "      <td>1894.000000</td>\n",
       "      <td>1894.000000</td>\n",
       "      <td>1894.000000</td>\n",
       "      <td>...</td>\n",
       "      <td>1894.000000</td>\n",
       "      <td>1894.000000</td>\n",
       "      <td>1890.000000</td>\n",
       "      <td>1890.000000</td>\n",
       "      <td>1893.000000</td>\n",
       "      <td>1894.000000</td>\n",
       "      <td>998.000000</td>\n",
       "      <td>1893.000000</td>\n",
       "      <td>1894.000000</td>\n",
       "      <td>1894.000000</td>\n",
       "    </tr>\n",
       "    <tr>\n",
       "      <th>mean</th>\n",
       "      <td>946.500000</td>\n",
       "      <td>39.270750</td>\n",
       "      <td>2.295671</td>\n",
       "      <td>31.142857</td>\n",
       "      <td>0.049919</td>\n",
       "      <td>0.020063</td>\n",
       "      <td>0.130940</td>\n",
       "      <td>0.302534</td>\n",
       "      <td>0.062830</td>\n",
       "      <td>0.004224</td>\n",
       "      <td>...</td>\n",
       "      <td>2096.421600</td>\n",
       "      <td>0.247096</td>\n",
       "      <td>46.593651</td>\n",
       "      <td>16.329841</td>\n",
       "      <td>15.287934</td>\n",
       "      <td>0.056494</td>\n",
       "      <td>-1.507325</td>\n",
       "      <td>1989.788774</td>\n",
       "      <td>4.430834</td>\n",
       "      <td>0.032207</td>\n",
       "    </tr>\n",
       "    <tr>\n",
       "      <th>std</th>\n",
       "      <td>546.895023</td>\n",
       "      <td>13.675874</td>\n",
       "      <td>0.996143</td>\n",
       "      <td>10.131304</td>\n",
       "      <td>0.217836</td>\n",
       "      <td>0.140254</td>\n",
       "      <td>0.337424</td>\n",
       "      <td>0.638461</td>\n",
       "      <td>0.242721</td>\n",
       "      <td>0.064871</td>\n",
       "      <td>...</td>\n",
       "      <td>472.834488</td>\n",
       "      <td>0.661506</td>\n",
       "      <td>22.736211</td>\n",
       "      <td>8.421322</td>\n",
       "      <td>10.426397</td>\n",
       "      <td>0.230935</td>\n",
       "      <td>0.495867</td>\n",
       "      <td>314.478436</td>\n",
       "      <td>3.595680</td>\n",
       "      <td>0.176596</td>\n",
       "    </tr>\n",
       "    <tr>\n",
       "      <th>min</th>\n",
       "      <td>0.000000</td>\n",
       "      <td>0.000000</td>\n",
       "      <td>1.000000</td>\n",
       "      <td>4.000000</td>\n",
       "      <td>0.000000</td>\n",
       "      <td>0.000000</td>\n",
       "      <td>0.000000</td>\n",
       "      <td>0.000000</td>\n",
       "      <td>0.000000</td>\n",
       "      <td>0.000000</td>\n",
       "      <td>...</td>\n",
       "      <td>1016.800000</td>\n",
       "      <td>0.000000</td>\n",
       "      <td>11.900000</td>\n",
       "      <td>-10.600000</td>\n",
       "      <td>-27.400000</td>\n",
       "      <td>0.000000</td>\n",
       "      <td>-2.840000</td>\n",
       "      <td>1145.800000</td>\n",
       "      <td>1.000000</td>\n",
       "      <td>0.000000</td>\n",
       "    </tr>\n",
       "    <tr>\n",
       "      <th>25%</th>\n",
       "      <td>473.250000</td>\n",
       "      <td>30.700000</td>\n",
       "      <td>1.000000</td>\n",
       "      <td>24.250000</td>\n",
       "      <td>0.000000</td>\n",
       "      <td>0.000000</td>\n",
       "      <td>0.000000</td>\n",
       "      <td>0.000000</td>\n",
       "      <td>0.000000</td>\n",
       "      <td>0.000000</td>\n",
       "      <td>...</td>\n",
       "      <td>1765.285000</td>\n",
       "      <td>0.000000</td>\n",
       "      <td>38.700000</td>\n",
       "      <td>10.500000</td>\n",
       "      <td>8.800000</td>\n",
       "      <td>0.000000</td>\n",
       "      <td>-1.820000</td>\n",
       "      <td>1777.000000</td>\n",
       "      <td>4.000000</td>\n",
       "      <td>0.000000</td>\n",
       "    </tr>\n",
       "    <tr>\n",
       "      <th>50%</th>\n",
       "      <td>946.500000</td>\n",
       "      <td>40.200000</td>\n",
       "      <td>2.000000</td>\n",
       "      <td>31.500000</td>\n",
       "      <td>0.000000</td>\n",
       "      <td>0.000000</td>\n",
       "      <td>0.000000</td>\n",
       "      <td>0.000000</td>\n",
       "      <td>0.000000</td>\n",
       "      <td>0.000000</td>\n",
       "      <td>...</td>\n",
       "      <td>2056.500000</td>\n",
       "      <td>0.000000</td>\n",
       "      <td>45.100000</td>\n",
       "      <td>15.700000</td>\n",
       "      <td>14.500000</td>\n",
       "      <td>0.000000</td>\n",
       "      <td>-1.520000</td>\n",
       "      <td>1985.500000</td>\n",
       "      <td>4.000000</td>\n",
       "      <td>0.000000</td>\n",
       "    </tr>\n",
       "    <tr>\n",
       "      <th>75%</th>\n",
       "      <td>1419.750000</td>\n",
       "      <td>48.600000</td>\n",
       "      <td>3.000000</td>\n",
       "      <td>38.000000</td>\n",
       "      <td>0.000000</td>\n",
       "      <td>0.000000</td>\n",
       "      <td>0.000000</td>\n",
       "      <td>0.000000</td>\n",
       "      <td>0.000000</td>\n",
       "      <td>0.000000</td>\n",
       "      <td>...</td>\n",
       "      <td>2374.350000</td>\n",
       "      <td>0.000000</td>\n",
       "      <td>52.000000</td>\n",
       "      <td>21.400000</td>\n",
       "      <td>21.100000</td>\n",
       "      <td>0.000000</td>\n",
       "      <td>-1.202500</td>\n",
       "      <td>2178.500000</td>\n",
       "      <td>4.000000</td>\n",
       "      <td>0.000000</td>\n",
       "    </tr>\n",
       "    <tr>\n",
       "      <th>max</th>\n",
       "      <td>1893.000000</td>\n",
       "      <td>89.000000</td>\n",
       "      <td>5.000000</td>\n",
       "      <td>68.000000</td>\n",
       "      <td>1.000000</td>\n",
       "      <td>1.000000</td>\n",
       "      <td>1.000000</td>\n",
       "      <td>3.000000</td>\n",
       "      <td>1.000000</td>\n",
       "      <td>1.000000</td>\n",
       "      <td>...</td>\n",
       "      <td>5569.000000</td>\n",
       "      <td>3.000000</td>\n",
       "      <td>559.000000</td>\n",
       "      <td>48.700000</td>\n",
       "      <td>165.000000</td>\n",
       "      <td>1.000000</td>\n",
       "      <td>1.700000</td>\n",
       "      <td>3214.200000</td>\n",
       "      <td>45.000000</td>\n",
       "      <td>1.000000</td>\n",
       "    </tr>\n",
       "  </tbody>\n",
       "</table>\n",
       "<p>8 rows × 47 columns</p>\n",
       "</div>"
      ],
      "text/plain": [
       "        Unnamed: 0  Large Lymphocyte  Location of herniation         ODI  \\\n",
       "count  1894.000000       1894.000000             1894.000000  462.000000   \n",
       "mean    946.500000         39.270750                2.295671   31.142857   \n",
       "std     546.895023         13.675874                0.996143   10.131304   \n",
       "min       0.000000          0.000000                1.000000    4.000000   \n",
       "25%     473.250000         30.700000                1.000000   24.250000   \n",
       "50%     946.500000         40.200000                2.000000   31.500000   \n",
       "75%    1419.750000         48.600000                3.000000   38.000000   \n",
       "max    1893.000000         89.000000                5.000000   68.000000   \n",
       "\n",
       "               가족력       간질성폐질환        고혈압여부       과거수술횟수         당뇨여부  \\\n",
       "count  1843.000000  1894.000000  1894.000000  1894.000000  1894.000000   \n",
       "mean      0.049919     0.020063     0.130940     0.302534     0.062830   \n",
       "std       0.217836     0.140254     0.337424     0.638461     0.242721   \n",
       "min       0.000000     0.000000     0.000000     0.000000     0.000000   \n",
       "25%       0.000000     0.000000     0.000000     0.000000     0.000000   \n",
       "50%       0.000000     0.000000     0.000000     0.000000     0.000000   \n",
       "75%       0.000000     0.000000     0.000000     0.000000     0.000000   \n",
       "max       1.000000     1.000000     1.000000     3.000000     1.000000   \n",
       "\n",
       "          말초동맥질환여부  ...      MF + ES  Modic change           PI           PT  \\\n",
       "count  1894.000000  ...  1894.000000   1894.000000  1890.000000  1890.000000   \n",
       "mean      0.004224  ...  2096.421600      0.247096    46.593651    16.329841   \n",
       "std       0.064871  ...   472.834488      0.661506    22.736211     8.421322   \n",
       "min       0.000000  ...  1016.800000      0.000000    11.900000   -10.600000   \n",
       "25%       0.000000  ...  1765.285000      0.000000    38.700000    10.500000   \n",
       "50%       0.000000  ...  2056.500000      0.000000    45.100000    15.700000   \n",
       "75%       0.000000  ...  2374.350000      0.000000    52.000000    21.400000   \n",
       "max       1.000000  ...  5569.000000      3.000000   559.000000    48.700000   \n",
       "\n",
       "       Seg Angle(raw)  Vaccum disc         골밀도       디스크단면적        디스크위치  \\\n",
       "count     1893.000000  1894.000000  998.000000  1893.000000  1894.000000   \n",
       "mean        15.287934     0.056494   -1.507325  1989.788774     4.430834   \n",
       "std         10.426397     0.230935    0.495867   314.478436     3.595680   \n",
       "min        -27.400000     0.000000   -2.840000  1145.800000     1.000000   \n",
       "25%          8.800000     0.000000   -1.820000  1777.000000     4.000000   \n",
       "50%         14.500000     0.000000   -1.520000  1985.500000     4.000000   \n",
       "75%         21.100000     0.000000   -1.202500  2178.500000     4.000000   \n",
       "max        165.000000     1.000000    1.700000  3214.200000    45.000000   \n",
       "\n",
       "            척추전방위증  \n",
       "count  1894.000000  \n",
       "mean      0.032207  \n",
       "std       0.176596  \n",
       "min       0.000000  \n",
       "25%       0.000000  \n",
       "50%       0.000000  \n",
       "75%       0.000000  \n",
       "max       1.000000  \n",
       "\n",
       "[8 rows x 47 columns]"
      ]
     },
     "execution_count": 7,
     "metadata": {},
     "output_type": "execute_result"
    }
   ],
   "source": [
    "df_ROS.describe()"
   ]
  },
  {
   "cell_type": "markdown",
   "id": "6d5a0138-de03-4acf-974e-0cc1d978da9f",
   "metadata": {},
   "source": [
    "### Data preprocessing\n",
    "- null값 제외"
   ]
  },
  {
   "cell_type": "code",
   "execution_count": 10,
   "id": "4d53cae5-f349-401f-8e2b-4d6912194197",
   "metadata": {
    "tags": []
   },
   "outputs": [],
   "source": [
    "df_AFMP=df_ROS[['연령', '지방축적도', 'MF + ES', 'PI']]\n",
    "## 목표변수: 연령, 설명변수: 지방축적도, MF+ES 디스크손상정도?, PI pain intensity 디스크관련통증"
   ]
  },
  {
   "cell_type": "code",
   "execution_count": 16,
   "id": "5e617b49-f6b6-4974-b882-f2ddfbd77fc1",
   "metadata": {
    "tags": []
   },
   "outputs": [
    {
     "data": {
      "text/plain": [
       "연령         0\n",
       "지방축적도      3\n",
       "MF + ES    0\n",
       "PI         4\n",
       "dtype: int64"
      ]
     },
     "execution_count": 16,
     "metadata": {},
     "output_type": "execute_result"
    }
   ],
   "source": [
    "df_AFMP.isnull().sum()"
   ]
  },
  {
   "cell_type": "code",
   "execution_count": 19,
   "id": "e6849c67-8f12-40c0-b7b9-909182e9e93c",
   "metadata": {
    "tags": []
   },
   "outputs": [],
   "source": [
    "df_AFMP_d=df_AFMP.dropna()"
   ]
  },
  {
   "cell_type": "code",
   "execution_count": 20,
   "id": "13703001-a10a-4a62-877c-0a66d3e01ead",
   "metadata": {
    "tags": []
   },
   "outputs": [
    {
     "data": {
      "text/plain": [
       "연령         0\n",
       "지방축적도      0\n",
       "MF + ES    0\n",
       "PI         0\n",
       "dtype: int64"
      ]
     },
     "execution_count": 20,
     "metadata": {},
     "output_type": "execute_result"
    }
   ],
   "source": [
    "df_AFMP_d.isnull().sum()"
   ]
  },
  {
   "cell_type": "code",
   "execution_count": 30,
   "id": "cd7640bb-1c80-47be-a81c-c67f0b76d005",
   "metadata": {
    "tags": []
   },
   "outputs": [
    {
     "data": {
      "text/plain": [
       "((1887,), (1887, 3))"
      ]
     },
     "execution_count": 30,
     "metadata": {},
     "output_type": "execute_result"
    }
   ],
   "source": [
    "# structured data\n",
    "target = df_AFMP_d['연령']\n",
    "labels = df_AFMP_d[['지방축적도', 'MF + ES', 'PI']]\n",
    "target.shape, labels.shape"
   ]
  },
  {
   "cell_type": "markdown",
   "id": "d2c2cd98-83d3-4296-9136-d9fa54005049",
   "metadata": {},
   "source": [
    "### Learning Algorithm 모델학습\n",
    "- 목표변수=연속형 지도학습"
   ]
  },
  {
   "cell_type": "code",
   "execution_count": 23,
   "id": "dd008480-03f0-4ecf-b408-3afabc282153",
   "metadata": {
    "tags": []
   },
   "outputs": [],
   "source": [
    "from sklearn.linear_model import LinearRegression"
   ]
  },
  {
   "cell_type": "code",
   "execution_count": 24,
   "id": "fb525589-ef3d-4571-ba6f-e1908c9aaca9",
   "metadata": {
    "tags": []
   },
   "outputs": [],
   "source": [
    "# 인스턴스화\n",
    "model = LinearRegression()"
   ]
  },
  {
   "cell_type": "code",
   "execution_count": 25,
   "id": "1f7a7d86-fd36-448a-af69-c9cc0e4c2e00",
   "metadata": {
    "tags": []
   },
   "outputs": [
    {
     "data": {
      "text/html": [
       "<style>#sk-container-id-1 {color: black;background-color: white;}#sk-container-id-1 pre{padding: 0;}#sk-container-id-1 div.sk-toggleable {background-color: white;}#sk-container-id-1 label.sk-toggleable__label {cursor: pointer;display: block;width: 100%;margin-bottom: 0;padding: 0.3em;box-sizing: border-box;text-align: center;}#sk-container-id-1 label.sk-toggleable__label-arrow:before {content: \"▸\";float: left;margin-right: 0.25em;color: #696969;}#sk-container-id-1 label.sk-toggleable__label-arrow:hover:before {color: black;}#sk-container-id-1 div.sk-estimator:hover label.sk-toggleable__label-arrow:before {color: black;}#sk-container-id-1 div.sk-toggleable__content {max-height: 0;max-width: 0;overflow: hidden;text-align: left;background-color: #f0f8ff;}#sk-container-id-1 div.sk-toggleable__content pre {margin: 0.2em;color: black;border-radius: 0.25em;background-color: #f0f8ff;}#sk-container-id-1 input.sk-toggleable__control:checked~div.sk-toggleable__content {max-height: 200px;max-width: 100%;overflow: auto;}#sk-container-id-1 input.sk-toggleable__control:checked~label.sk-toggleable__label-arrow:before {content: \"▾\";}#sk-container-id-1 div.sk-estimator input.sk-toggleable__control:checked~label.sk-toggleable__label {background-color: #d4ebff;}#sk-container-id-1 div.sk-label input.sk-toggleable__control:checked~label.sk-toggleable__label {background-color: #d4ebff;}#sk-container-id-1 input.sk-hidden--visually {border: 0;clip: rect(1px 1px 1px 1px);clip: rect(1px, 1px, 1px, 1px);height: 1px;margin: -1px;overflow: hidden;padding: 0;position: absolute;width: 1px;}#sk-container-id-1 div.sk-estimator {font-family: monospace;background-color: #f0f8ff;border: 1px dotted black;border-radius: 0.25em;box-sizing: border-box;margin-bottom: 0.5em;}#sk-container-id-1 div.sk-estimator:hover {background-color: #d4ebff;}#sk-container-id-1 div.sk-parallel-item::after {content: \"\";width: 100%;border-bottom: 1px solid gray;flex-grow: 1;}#sk-container-id-1 div.sk-label:hover label.sk-toggleable__label {background-color: #d4ebff;}#sk-container-id-1 div.sk-serial::before {content: \"\";position: absolute;border-left: 1px solid gray;box-sizing: border-box;top: 0;bottom: 0;left: 50%;z-index: 0;}#sk-container-id-1 div.sk-serial {display: flex;flex-direction: column;align-items: center;background-color: white;padding-right: 0.2em;padding-left: 0.2em;position: relative;}#sk-container-id-1 div.sk-item {position: relative;z-index: 1;}#sk-container-id-1 div.sk-parallel {display: flex;align-items: stretch;justify-content: center;background-color: white;position: relative;}#sk-container-id-1 div.sk-item::before, #sk-container-id-1 div.sk-parallel-item::before {content: \"\";position: absolute;border-left: 1px solid gray;box-sizing: border-box;top: 0;bottom: 0;left: 50%;z-index: -1;}#sk-container-id-1 div.sk-parallel-item {display: flex;flex-direction: column;z-index: 1;position: relative;background-color: white;}#sk-container-id-1 div.sk-parallel-item:first-child::after {align-self: flex-end;width: 50%;}#sk-container-id-1 div.sk-parallel-item:last-child::after {align-self: flex-start;width: 50%;}#sk-container-id-1 div.sk-parallel-item:only-child::after {width: 0;}#sk-container-id-1 div.sk-dashed-wrapped {border: 1px dashed gray;margin: 0 0.4em 0.5em 0.4em;box-sizing: border-box;padding-bottom: 0.4em;background-color: white;}#sk-container-id-1 div.sk-label label {font-family: monospace;font-weight: bold;display: inline-block;line-height: 1.2em;}#sk-container-id-1 div.sk-label-container {text-align: center;}#sk-container-id-1 div.sk-container {/* jupyter's `normalize.less` sets `[hidden] { display: none; }` but bootstrap.min.css set `[hidden] { display: none !important; }` so we also need the `!important` here to be able to override the default hidden behavior on the sphinx rendered scikit-learn.org. See: https://github.com/scikit-learn/scikit-learn/issues/21755 */display: inline-block !important;position: relative;}#sk-container-id-1 div.sk-text-repr-fallback {display: none;}</style><div id=\"sk-container-id-1\" class=\"sk-top-container\"><div class=\"sk-text-repr-fallback\"><pre>LinearRegression()</pre><b>In a Jupyter environment, please rerun this cell to show the HTML representation or trust the notebook. <br />On GitHub, the HTML representation is unable to render, please try loading this page with nbviewer.org.</b></div><div class=\"sk-container\" hidden><div class=\"sk-item\"><div class=\"sk-estimator sk-toggleable\"><input class=\"sk-toggleable__control sk-hidden--visually\" id=\"sk-estimator-id-1\" type=\"checkbox\" checked><label for=\"sk-estimator-id-1\" class=\"sk-toggleable__label sk-toggleable__label-arrow\">LinearRegression</label><div class=\"sk-toggleable__content\"><pre>LinearRegression()</pre></div></div></div></div></div>"
      ],
      "text/plain": [
       "LinearRegression()"
      ]
     },
     "execution_count": 25,
     "metadata": {},
     "output_type": "execute_result"
    }
   ],
   "source": [
    "# 학습 model.fit(x들, y)\n",
    "model.fit(labels, target)"
   ]
  },
  {
   "cell_type": "markdown",
   "id": "3cb21c0a-eec6-4234-84c2-9c52ca1299af",
   "metadata": {},
   "source": [
    "### 평가?\n",
    "- r2_score"
   ]
  },
  {
   "cell_type": "code",
   "execution_count": 26,
   "id": "507b8f3f-6a0e-487b-a514-6fcfc9fc459d",
   "metadata": {
    "tags": []
   },
   "outputs": [
    {
     "data": {
      "text/plain": [
       "1887"
      ]
     },
     "execution_count": 26,
     "metadata": {},
     "output_type": "execute_result"
    }
   ],
   "source": [
    "# labels 개수 확인\n",
    "target_predict = model.predict(labels)\n",
    "len(target_predict)"
   ]
  },
  {
   "cell_type": "code",
   "execution_count": 27,
   "id": "954caaa7-a5a1-4525-a314-5cc4a2da10f8",
   "metadata": {
    "tags": []
   },
   "outputs": [],
   "source": [
    "from sklearn.metrics import r2_score"
   ]
  },
  {
   "cell_type": "code",
   "execution_count": 28,
   "id": "f5d2df52-7134-4a40-9dd1-3db94415bf7f",
   "metadata": {
    "tags": []
   },
   "outputs": [
    {
     "data": {
      "text/plain": [
       "0.011338293827752755"
      ]
     },
     "execution_count": 28,
     "metadata": {},
     "output_type": "execute_result"
    }
   ],
   "source": [
    "r2_score(target, target_predict)"
   ]
  },
  {
   "cell_type": "markdown",
   "id": "62cf5428-0cf6-4618-af33-f017fe601629",
   "metadata": {},
   "source": [
    "### 미래예측\n",
    "- 임의값\n",
    "    - 연령/지방축적도/MF+ES/PI 30/196.00/1959.30/51.2 (연령 제외하고 float임.)"
   ]
  },
  {
   "cell_type": "code",
   "execution_count": 32,
   "id": "a8a297f7-d427-4401-a5c5-bd0501675617",
   "metadata": {
    "tags": []
   },
   "outputs": [
    {
     "data": {
      "text/html": [
       "<div>\n",
       "<style scoped>\n",
       "    .dataframe tbody tr th:only-of-type {\n",
       "        vertical-align: middle;\n",
       "    }\n",
       "\n",
       "    .dataframe tbody tr th {\n",
       "        vertical-align: top;\n",
       "    }\n",
       "\n",
       "    .dataframe thead th {\n",
       "        text-align: right;\n",
       "    }\n",
       "</style>\n",
       "<table border=\"1\" class=\"dataframe\">\n",
       "  <thead>\n",
       "    <tr style=\"text-align: right;\">\n",
       "      <th></th>\n",
       "      <th>연령</th>\n",
       "      <th>지방축적도</th>\n",
       "      <th>MF + ES</th>\n",
       "      <th>PI</th>\n",
       "    </tr>\n",
       "  </thead>\n",
       "  <tbody>\n",
       "    <tr>\n",
       "      <th>10</th>\n",
       "      <td>43</td>\n",
       "      <td>211.70</td>\n",
       "      <td>1462.50</td>\n",
       "      <td>58.6</td>\n",
       "    </tr>\n",
       "    <tr>\n",
       "      <th>11</th>\n",
       "      <td>65</td>\n",
       "      <td>104.40</td>\n",
       "      <td>2636.91</td>\n",
       "      <td>37.2</td>\n",
       "    </tr>\n",
       "    <tr>\n",
       "      <th>12</th>\n",
       "      <td>35</td>\n",
       "      <td>61.00</td>\n",
       "      <td>1967.70</td>\n",
       "      <td>42.9</td>\n",
       "    </tr>\n",
       "    <tr>\n",
       "      <th>13</th>\n",
       "      <td>30</td>\n",
       "      <td>499.80</td>\n",
       "      <td>1878.50</td>\n",
       "      <td>61.6</td>\n",
       "    </tr>\n",
       "    <tr>\n",
       "      <th>14</th>\n",
       "      <td>56</td>\n",
       "      <td>252.80</td>\n",
       "      <td>2012.50</td>\n",
       "      <td>49.9</td>\n",
       "    </tr>\n",
       "    <tr>\n",
       "      <th>15</th>\n",
       "      <td>84</td>\n",
       "      <td>121.00</td>\n",
       "      <td>1199.00</td>\n",
       "      <td>40.2</td>\n",
       "    </tr>\n",
       "    <tr>\n",
       "      <th>16</th>\n",
       "      <td>34</td>\n",
       "      <td>87.60</td>\n",
       "      <td>1746.30</td>\n",
       "      <td>38.8</td>\n",
       "    </tr>\n",
       "    <tr>\n",
       "      <th>17</th>\n",
       "      <td>75</td>\n",
       "      <td>253.10</td>\n",
       "      <td>1930.70</td>\n",
       "      <td>65.9</td>\n",
       "    </tr>\n",
       "    <tr>\n",
       "      <th>18</th>\n",
       "      <td>66</td>\n",
       "      <td>184.60</td>\n",
       "      <td>2152.30</td>\n",
       "      <td>32.0</td>\n",
       "    </tr>\n",
       "    <tr>\n",
       "      <th>19</th>\n",
       "      <td>62</td>\n",
       "      <td>220.50</td>\n",
       "      <td>2101.30</td>\n",
       "      <td>37.1</td>\n",
       "    </tr>\n",
       "    <tr>\n",
       "      <th>20</th>\n",
       "      <td>56</td>\n",
       "      <td>137.60</td>\n",
       "      <td>1576.60</td>\n",
       "      <td>49.0</td>\n",
       "    </tr>\n",
       "    <tr>\n",
       "      <th>21</th>\n",
       "      <td>56</td>\n",
       "      <td>137.60</td>\n",
       "      <td>1576.60</td>\n",
       "      <td>49.0</td>\n",
       "    </tr>\n",
       "    <tr>\n",
       "      <th>22</th>\n",
       "      <td>74</td>\n",
       "      <td>394.10</td>\n",
       "      <td>1724.50</td>\n",
       "      <td>61.0</td>\n",
       "    </tr>\n",
       "    <tr>\n",
       "      <th>23</th>\n",
       "      <td>42</td>\n",
       "      <td>120.50</td>\n",
       "      <td>2688.80</td>\n",
       "      <td>41.8</td>\n",
       "    </tr>\n",
       "    <tr>\n",
       "      <th>24</th>\n",
       "      <td>35</td>\n",
       "      <td>122.00</td>\n",
       "      <td>2183.90</td>\n",
       "      <td>43.7</td>\n",
       "    </tr>\n",
       "    <tr>\n",
       "      <th>25</th>\n",
       "      <td>52</td>\n",
       "      <td>122.00</td>\n",
       "      <td>2183.90</td>\n",
       "      <td>43.7</td>\n",
       "    </tr>\n",
       "    <tr>\n",
       "      <th>26</th>\n",
       "      <td>63</td>\n",
       "      <td>161.60</td>\n",
       "      <td>2188.80</td>\n",
       "      <td>41.4</td>\n",
       "    </tr>\n",
       "    <tr>\n",
       "      <th>27</th>\n",
       "      <td>37</td>\n",
       "      <td>163.80</td>\n",
       "      <td>1458.30</td>\n",
       "      <td>45.1</td>\n",
       "    </tr>\n",
       "    <tr>\n",
       "      <th>28</th>\n",
       "      <td>64</td>\n",
       "      <td>111.50</td>\n",
       "      <td>1510.70</td>\n",
       "      <td>52.9</td>\n",
       "    </tr>\n",
       "    <tr>\n",
       "      <th>29</th>\n",
       "      <td>58</td>\n",
       "      <td>111.50</td>\n",
       "      <td>1510.70</td>\n",
       "      <td>52.9</td>\n",
       "    </tr>\n",
       "    <tr>\n",
       "      <th>30</th>\n",
       "      <td>52</td>\n",
       "      <td>229.20</td>\n",
       "      <td>2097.40</td>\n",
       "      <td>45.3</td>\n",
       "    </tr>\n",
       "    <tr>\n",
       "      <th>31</th>\n",
       "      <td>30</td>\n",
       "      <td>196.00</td>\n",
       "      <td>1959.30</td>\n",
       "      <td>51.2</td>\n",
       "    </tr>\n",
       "    <tr>\n",
       "      <th>32</th>\n",
       "      <td>57</td>\n",
       "      <td>222.70</td>\n",
       "      <td>1514.20</td>\n",
       "      <td>53.4</td>\n",
       "    </tr>\n",
       "    <tr>\n",
       "      <th>33</th>\n",
       "      <td>57</td>\n",
       "      <td>112.00</td>\n",
       "      <td>2286.70</td>\n",
       "      <td>36.1</td>\n",
       "    </tr>\n",
       "    <tr>\n",
       "      <th>34</th>\n",
       "      <td>40</td>\n",
       "      <td>172.50</td>\n",
       "      <td>1633.60</td>\n",
       "      <td>66.7</td>\n",
       "    </tr>\n",
       "    <tr>\n",
       "      <th>35</th>\n",
       "      <td>37</td>\n",
       "      <td>296.60</td>\n",
       "      <td>1729.70</td>\n",
       "      <td>55.3</td>\n",
       "    </tr>\n",
       "    <tr>\n",
       "      <th>36</th>\n",
       "      <td>76</td>\n",
       "      <td>109.80</td>\n",
       "      <td>1669.70</td>\n",
       "      <td>31.8</td>\n",
       "    </tr>\n",
       "    <tr>\n",
       "      <th>37</th>\n",
       "      <td>52</td>\n",
       "      <td>268.50</td>\n",
       "      <td>2288.50</td>\n",
       "      <td>37.6</td>\n",
       "    </tr>\n",
       "    <tr>\n",
       "      <th>38</th>\n",
       "      <td>29</td>\n",
       "      <td>107.50</td>\n",
       "      <td>1897.10</td>\n",
       "      <td>54.2</td>\n",
       "    </tr>\n",
       "    <tr>\n",
       "      <th>39</th>\n",
       "      <td>49</td>\n",
       "      <td>204.00</td>\n",
       "      <td>1277.90</td>\n",
       "      <td>38.2</td>\n",
       "    </tr>\n",
       "    <tr>\n",
       "      <th>40</th>\n",
       "      <td>50</td>\n",
       "      <td>71.10</td>\n",
       "      <td>1747.20</td>\n",
       "      <td>35.8</td>\n",
       "    </tr>\n",
       "    <tr>\n",
       "      <th>41</th>\n",
       "      <td>57</td>\n",
       "      <td>100.01</td>\n",
       "      <td>2503.34</td>\n",
       "      <td>46.0</td>\n",
       "    </tr>\n",
       "    <tr>\n",
       "      <th>42</th>\n",
       "      <td>50</td>\n",
       "      <td>121.03</td>\n",
       "      <td>2763.94</td>\n",
       "      <td>44.0</td>\n",
       "    </tr>\n",
       "    <tr>\n",
       "      <th>43</th>\n",
       "      <td>39</td>\n",
       "      <td>107.51</td>\n",
       "      <td>3679.32</td>\n",
       "      <td>47.0</td>\n",
       "    </tr>\n",
       "    <tr>\n",
       "      <th>44</th>\n",
       "      <td>46</td>\n",
       "      <td>241.60</td>\n",
       "      <td>1854.00</td>\n",
       "      <td>52.8</td>\n",
       "    </tr>\n",
       "    <tr>\n",
       "      <th>45</th>\n",
       "      <td>77</td>\n",
       "      <td>318.60</td>\n",
       "      <td>2425.80</td>\n",
       "      <td>49.7</td>\n",
       "    </tr>\n",
       "    <tr>\n",
       "      <th>46</th>\n",
       "      <td>72</td>\n",
       "      <td>121.30</td>\n",
       "      <td>2501.40</td>\n",
       "      <td>47.0</td>\n",
       "    </tr>\n",
       "    <tr>\n",
       "      <th>47</th>\n",
       "      <td>54</td>\n",
       "      <td>172.90</td>\n",
       "      <td>1772.20</td>\n",
       "      <td>56.6</td>\n",
       "    </tr>\n",
       "    <tr>\n",
       "      <th>48</th>\n",
       "      <td>69</td>\n",
       "      <td>153.70</td>\n",
       "      <td>2677.20</td>\n",
       "      <td>36.3</td>\n",
       "    </tr>\n",
       "    <tr>\n",
       "      <th>49</th>\n",
       "      <td>56</td>\n",
       "      <td>139.70</td>\n",
       "      <td>2925.20</td>\n",
       "      <td>40.8</td>\n",
       "    </tr>\n",
       "  </tbody>\n",
       "</table>\n",
       "</div>"
      ],
      "text/plain": [
       "    연령   지방축적도  MF + ES    PI\n",
       "10  43  211.70  1462.50  58.6\n",
       "11  65  104.40  2636.91  37.2\n",
       "12  35   61.00  1967.70  42.9\n",
       "13  30  499.80  1878.50  61.6\n",
       "14  56  252.80  2012.50  49.9\n",
       "15  84  121.00  1199.00  40.2\n",
       "16  34   87.60  1746.30  38.8\n",
       "17  75  253.10  1930.70  65.9\n",
       "18  66  184.60  2152.30  32.0\n",
       "19  62  220.50  2101.30  37.1\n",
       "20  56  137.60  1576.60  49.0\n",
       "21  56  137.60  1576.60  49.0\n",
       "22  74  394.10  1724.50  61.0\n",
       "23  42  120.50  2688.80  41.8\n",
       "24  35  122.00  2183.90  43.7\n",
       "25  52  122.00  2183.90  43.7\n",
       "26  63  161.60  2188.80  41.4\n",
       "27  37  163.80  1458.30  45.1\n",
       "28  64  111.50  1510.70  52.9\n",
       "29  58  111.50  1510.70  52.9\n",
       "30  52  229.20  2097.40  45.3\n",
       "31  30  196.00  1959.30  51.2\n",
       "32  57  222.70  1514.20  53.4\n",
       "33  57  112.00  2286.70  36.1\n",
       "34  40  172.50  1633.60  66.7\n",
       "35  37  296.60  1729.70  55.3\n",
       "36  76  109.80  1669.70  31.8\n",
       "37  52  268.50  2288.50  37.6\n",
       "38  29  107.50  1897.10  54.2\n",
       "39  49  204.00  1277.90  38.2\n",
       "40  50   71.10  1747.20  35.8\n",
       "41  57  100.01  2503.34  46.0\n",
       "42  50  121.03  2763.94  44.0\n",
       "43  39  107.51  3679.32  47.0\n",
       "44  46  241.60  1854.00  52.8\n",
       "45  77  318.60  2425.80  49.7\n",
       "46  72  121.30  2501.40  47.0\n",
       "47  54  172.90  1772.20  56.6\n",
       "48  69  153.70  2677.20  36.3\n",
       "49  56  139.70  2925.20  40.8"
      ]
     },
     "execution_count": 32,
     "metadata": {},
     "output_type": "execute_result"
    }
   ],
   "source": [
    "# 임의 값 check\n",
    "df_AFMP_d[10:50]\n",
    "# 연령/지방축적도/MF+ES/PI 30/196.00/1959.30/51.2 (연령 제외하고 float임.)"
   ]
  },
  {
   "cell_type": "code",
   "execution_count": 33,
   "id": "8d017b2a-828a-49fa-809a-b08e424c06c9",
   "metadata": {
    "collapsed": true,
    "jupyter": {
     "outputs_hidden": true
    },
    "tags": []
   },
   "outputs": [
    {
     "name": "stdout",
     "output_type": "stream",
     "text": [
      "<class 'pandas.core.frame.DataFrame'>\n",
      "Int64Index: 1887 entries, 0 to 1893\n",
      "Data columns (total 4 columns):\n",
      " #   Column   Non-Null Count  Dtype  \n",
      "---  ------   --------------  -----  \n",
      " 0   연령       1887 non-null   int64  \n",
      " 1   지방축적도    1887 non-null   float64\n",
      " 2   MF + ES  1887 non-null   float64\n",
      " 3   PI       1887 non-null   float64\n",
      "dtypes: float64(3), int64(1)\n",
      "memory usage: 73.7 KB\n"
     ]
    }
   ],
   "source": [
    "df_AFMP_d.info()"
   ]
  },
  {
   "cell_type": "code",
   "execution_count": 34,
   "id": "509861e2-8bcb-4ec2-9611-6ef859d1d46a",
   "metadata": {
    "tags": []
   },
   "outputs": [
    {
     "name": "stderr",
     "output_type": "stream",
     "text": [
      "C:\\Users\\01-15\\anaconda3\\Lib\\site-packages\\sklearn\\base.py:439: UserWarning: X does not have valid feature names, but LinearRegression was fitted with feature names\n",
      "  warnings.warn(\n"
     ]
    },
    {
     "data": {
      "text/plain": [
       "array([41.90326655])"
      ]
     },
     "execution_count": 34,
     "metadata": {},
     "output_type": "execute_result"
    }
   ],
   "source": [
    "label_predict = [[196.00,1959.30,51.2]]\n",
    "model.predict(label_predict)"
   ]
  },
  {
   "cell_type": "markdown",
   "id": "8ba78ffc-128c-4cf2-a352-4a0a174ba02a",
   "metadata": {},
   "source": [
    "### 서비스 배포\n",
    "- 예측한걸 pickle로 만든다"
   ]
  },
  {
   "cell_type": "code",
   "execution_count": 35,
   "id": "2a962955-85d1-4c21-afec-f71c2097f1d4",
   "metadata": {
    "tags": []
   },
   "outputs": [],
   "source": [
    "## pickle\n",
    "import pickle"
   ]
  },
  {
   "cell_type": "code",
   "execution_count": 36,
   "id": "aa990b95-8dfd-46e8-a6a4-6c1a2e832b61",
   "metadata": {
    "tags": []
   },
   "outputs": [],
   "source": [
    "with open ('../../../datasets/RecurrenceOfSurgery_regression_quest.pkl', 'wb') as pkl_ROS : \n",
    "    pickle.dump(obj=model, file=pkl_ROS)\n",
    "    pass"
   ]
  },
  {
   "cell_type": "markdown",
   "id": "c6bc9892-4500-4b9d-bfb3-d8753e5076af",
   "metadata": {
    "tags": []
   },
   "source": [
    "- 파이썬으로 예측 파일 load\n",
    "- fat_density : 111.50\n",
    "- MFandES : 1510.70\n",
    "- disc_curvature : 52.9\n",
    "- Predicted Age: [43.1707776]"
   ]
  },
  {
   "cell_type": "code",
   "execution_count": 38,
   "id": "d43dfe17-c144-470d-bed7-5254979ff267",
   "metadata": {
    "tags": []
   },
   "outputs": [
    {
     "data": {
      "text/plain": [
       "(46.79503231295628, array([ 0.00048189, -0.00286922,  0.01241105]))"
      ]
     },
     "execution_count": 38,
     "metadata": {},
     "output_type": "execute_result"
    }
   ],
   "source": [
    "model.intercept_, model.coef_,"
   ]
  },
  {
   "cell_type": "code",
   "execution_count": 39,
   "id": "cacfe71f-f353-4ace-9d1b-f5199a2f23bc",
   "metadata": {
    "tags": []
   },
   "outputs": [
    {
     "data": {
      "text/plain": [
       "43.17077693895628"
      ]
     },
     "execution_count": 39,
     "metadata": {},
     "output_type": "execute_result"
    }
   ],
   "source": [
    "(0.00048189*111.50)+(-0.00286922*1510.70)+(0.01241105*52.9)+46.79503231295628"
   ]
  },
  {
   "cell_type": "code",
   "execution_count": null,
   "id": "db441d1e-bde9-4c14-9cdc-cefb7ff720e3",
   "metadata": {},
   "outputs": [],
   "source": []
  }
 ],
 "metadata": {
  "kernelspec": {
   "display_name": "Python 3 (ipykernel)",
   "language": "python",
   "name": "python3"
  },
  "language_info": {
   "codemirror_mode": {
    "name": "ipython",
    "version": 3
   },
   "file_extension": ".py",
   "mimetype": "text/x-python",
   "name": "python",
   "nbconvert_exporter": "python",
   "pygments_lexer": "ipython3",
   "version": "3.11.3"
  }
 },
 "nbformat": 4,
 "nbformat_minor": 5
}

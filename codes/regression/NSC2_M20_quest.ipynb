{
 "cells": [
  {
   "cell_type": "code",
   "execution_count": 1,
   "id": "b44d86d3-4811-4159-93b3-4e8933e332ca",
   "metadata": {
    "tags": []
   },
   "outputs": [],
   "source": [
    "import pandas as pd"
   ]
  },
  {
   "cell_type": "code",
   "execution_count": 2,
   "id": "6b40f980-1530-417c-b8bf-ed49a69d3bae",
   "metadata": {
    "tags": []
   },
   "outputs": [],
   "source": [
    "df_M20_amount=pd.read_csv('../../datasets/NSC2_M20_amount.csv')"
   ]
  },
  {
   "cell_type": "markdown",
   "id": "ca30e556-4a88-4413-8c1e-4c4bec637021",
   "metadata": {},
   "source": [
    "## Quest\n",
    "### 연속형 선택\n",
    "- ED_RC_TOT_AMT = 심결요양급여비용총액 _ 목표변수\n",
    "- MDCARE_DD_CNT = 요양일수 _ 설명변수\n",
    "- OPRTN_YN = 수술여부 _ 설명변수\n",
    "\n",
    "    - ⇒ 연속형_지도학습 이용"
   ]
  },
  {
   "cell_type": "markdown",
   "id": "01155e4d-8a9f-4386-a2ac-3ec053faa52e",
   "metadata": {},
   "source": [
    "#### data preprocessing"
   ]
  },
  {
   "cell_type": "code",
   "execution_count": 3,
   "id": "9923ab73-2af2-4345-8ef6-6f06ecee4564",
   "metadata": {
    "tags": []
   },
   "outputs": [
    {
     "data": {
      "text/plain": [
       "Unnamed: 0       0\n",
       "MDCARE_DD_CNT    0\n",
       "OPRTN_YN         0\n",
       "ED_RC_TOT_AMT    0\n",
       "dtype: int64"
      ]
     },
     "execution_count": 3,
     "metadata": {},
     "output_type": "execute_result"
    }
   ],
   "source": [
    "## null 확인\n",
    "df_M20_amount.isnull().sum()"
   ]
  },
  {
   "cell_type": "code",
   "execution_count": 4,
   "id": "06cfa36f-f313-4329-9ccf-01dcce0b5d20",
   "metadata": {
    "tags": []
   },
   "outputs": [
    {
     "data": {
      "text/plain": [
       "((137163,), (137163, 2))"
      ]
     },
     "execution_count": 4,
     "metadata": {},
     "output_type": "execute_result"
    }
   ],
   "source": [
    "## structured data 추출 후 row 수 check\n",
    "target = df_M20_amount['ED_RC_TOT_AMT']\n",
    "labels = df_M20_amount[['MDCARE_DD_CNT', 'OPRTN_YN']]\n",
    "target.shape, labels.shape"
   ]
  },
  {
   "cell_type": "markdown",
   "id": "d14589e5-716d-422d-a781-0da3a06fe9a2",
   "metadata": {},
   "source": [
    "#### Learning Algorithm\n",
    "- 학습 시키기"
   ]
  },
  {
   "cell_type": "code",
   "execution_count": 5,
   "id": "161eac50-bf21-4e82-b548-2061dd4f150c",
   "metadata": {
    "tags": []
   },
   "outputs": [],
   "source": [
    "from sklearn.linear_model import LinearRegression"
   ]
  },
  {
   "cell_type": "code",
   "execution_count": 6,
   "id": "c8b97210-f4c4-48a4-87b6-8e0cc6ab58bc",
   "metadata": {
    "tags": []
   },
   "outputs": [],
   "source": [
    "model = LinearRegression()"
   ]
  },
  {
   "cell_type": "code",
   "execution_count": 7,
   "id": "1d1fb5bb-7e92-4821-8f3e-dbf2152d3360",
   "metadata": {
    "tags": []
   },
   "outputs": [
    {
     "data": {
      "text/html": [
       "<style>#sk-container-id-1 {color: black;background-color: white;}#sk-container-id-1 pre{padding: 0;}#sk-container-id-1 div.sk-toggleable {background-color: white;}#sk-container-id-1 label.sk-toggleable__label {cursor: pointer;display: block;width: 100%;margin-bottom: 0;padding: 0.3em;box-sizing: border-box;text-align: center;}#sk-container-id-1 label.sk-toggleable__label-arrow:before {content: \"▸\";float: left;margin-right: 0.25em;color: #696969;}#sk-container-id-1 label.sk-toggleable__label-arrow:hover:before {color: black;}#sk-container-id-1 div.sk-estimator:hover label.sk-toggleable__label-arrow:before {color: black;}#sk-container-id-1 div.sk-toggleable__content {max-height: 0;max-width: 0;overflow: hidden;text-align: left;background-color: #f0f8ff;}#sk-container-id-1 div.sk-toggleable__content pre {margin: 0.2em;color: black;border-radius: 0.25em;background-color: #f0f8ff;}#sk-container-id-1 input.sk-toggleable__control:checked~div.sk-toggleable__content {max-height: 200px;max-width: 100%;overflow: auto;}#sk-container-id-1 input.sk-toggleable__control:checked~label.sk-toggleable__label-arrow:before {content: \"▾\";}#sk-container-id-1 div.sk-estimator input.sk-toggleable__control:checked~label.sk-toggleable__label {background-color: #d4ebff;}#sk-container-id-1 div.sk-label input.sk-toggleable__control:checked~label.sk-toggleable__label {background-color: #d4ebff;}#sk-container-id-1 input.sk-hidden--visually {border: 0;clip: rect(1px 1px 1px 1px);clip: rect(1px, 1px, 1px, 1px);height: 1px;margin: -1px;overflow: hidden;padding: 0;position: absolute;width: 1px;}#sk-container-id-1 div.sk-estimator {font-family: monospace;background-color: #f0f8ff;border: 1px dotted black;border-radius: 0.25em;box-sizing: border-box;margin-bottom: 0.5em;}#sk-container-id-1 div.sk-estimator:hover {background-color: #d4ebff;}#sk-container-id-1 div.sk-parallel-item::after {content: \"\";width: 100%;border-bottom: 1px solid gray;flex-grow: 1;}#sk-container-id-1 div.sk-label:hover label.sk-toggleable__label {background-color: #d4ebff;}#sk-container-id-1 div.sk-serial::before {content: \"\";position: absolute;border-left: 1px solid gray;box-sizing: border-box;top: 0;bottom: 0;left: 50%;z-index: 0;}#sk-container-id-1 div.sk-serial {display: flex;flex-direction: column;align-items: center;background-color: white;padding-right: 0.2em;padding-left: 0.2em;position: relative;}#sk-container-id-1 div.sk-item {position: relative;z-index: 1;}#sk-container-id-1 div.sk-parallel {display: flex;align-items: stretch;justify-content: center;background-color: white;position: relative;}#sk-container-id-1 div.sk-item::before, #sk-container-id-1 div.sk-parallel-item::before {content: \"\";position: absolute;border-left: 1px solid gray;box-sizing: border-box;top: 0;bottom: 0;left: 50%;z-index: -1;}#sk-container-id-1 div.sk-parallel-item {display: flex;flex-direction: column;z-index: 1;position: relative;background-color: white;}#sk-container-id-1 div.sk-parallel-item:first-child::after {align-self: flex-end;width: 50%;}#sk-container-id-1 div.sk-parallel-item:last-child::after {align-self: flex-start;width: 50%;}#sk-container-id-1 div.sk-parallel-item:only-child::after {width: 0;}#sk-container-id-1 div.sk-dashed-wrapped {border: 1px dashed gray;margin: 0 0.4em 0.5em 0.4em;box-sizing: border-box;padding-bottom: 0.4em;background-color: white;}#sk-container-id-1 div.sk-label label {font-family: monospace;font-weight: bold;display: inline-block;line-height: 1.2em;}#sk-container-id-1 div.sk-label-container {text-align: center;}#sk-container-id-1 div.sk-container {/* jupyter's `normalize.less` sets `[hidden] { display: none; }` but bootstrap.min.css set `[hidden] { display: none !important; }` so we also need the `!important` here to be able to override the default hidden behavior on the sphinx rendered scikit-learn.org. See: https://github.com/scikit-learn/scikit-learn/issues/21755 */display: inline-block !important;position: relative;}#sk-container-id-1 div.sk-text-repr-fallback {display: none;}</style><div id=\"sk-container-id-1\" class=\"sk-top-container\"><div class=\"sk-text-repr-fallback\"><pre>LinearRegression()</pre><b>In a Jupyter environment, please rerun this cell to show the HTML representation or trust the notebook. <br />On GitHub, the HTML representation is unable to render, please try loading this page with nbviewer.org.</b></div><div class=\"sk-container\" hidden><div class=\"sk-item\"><div class=\"sk-estimator sk-toggleable\"><input class=\"sk-toggleable__control sk-hidden--visually\" id=\"sk-estimator-id-1\" type=\"checkbox\" checked><label for=\"sk-estimator-id-1\" class=\"sk-toggleable__label sk-toggleable__label-arrow\">LinearRegression</label><div class=\"sk-toggleable__content\"><pre>LinearRegression()</pre></div></div></div></div></div>"
      ],
      "text/plain": [
       "LinearRegression()"
      ]
     },
     "execution_count": 7,
     "metadata": {},
     "output_type": "execute_result"
    }
   ],
   "source": [
    "# 학습시키기_ model.fit(설명변수, 목표변수)\n",
    "model.fit(labels, target)"
   ]
  },
  {
   "cell_type": "markdown",
   "id": "8ad355cb-3fb6-4a4c-9b5f-03ef3150dde3",
   "metadata": {},
   "source": [
    "#### 평가 (목표변수: 심결요양급여비용총액, 설명변수: 수술여부, 요양일수)\n",
    "- data check\n",
    "- 0.18022372538557352"
   ]
  },
  {
   "cell_type": "code",
   "execution_count": 8,
   "id": "d4d5fd71-db7b-449f-996f-5646a48189b2",
   "metadata": {
    "tags": []
   },
   "outputs": [
    {
     "data": {
      "text/plain": [
       "137163"
      ]
     },
     "execution_count": 8,
     "metadata": {},
     "output_type": "execute_result"
    }
   ],
   "source": [
    "target_predict = model.predict(labels)\n",
    "len(target_predict)"
   ]
  },
  {
   "cell_type": "code",
   "execution_count": 9,
   "id": "badb8e58-3996-45a0-9982-b9fa0fc7f4bb",
   "metadata": {
    "tags": []
   },
   "outputs": [],
   "source": [
    "from sklearn.metrics import r2_score"
   ]
  },
  {
   "cell_type": "code",
   "execution_count": 10,
   "id": "168a534d-b75d-48ec-a428-d87d21724a6a",
   "metadata": {
    "tags": []
   },
   "outputs": [
    {
     "data": {
      "text/plain": [
       "0.18022372538557374"
      ]
     },
     "execution_count": 10,
     "metadata": {},
     "output_type": "execute_result"
    }
   ],
   "source": [
    "r2_score(target, target_predict)"
   ]
  },
  {
   "cell_type": "markdown",
   "id": "24deda2f-452b-4e49-b56b-b88f476f27dd",
   "metadata": {},
   "source": [
    "#### 미래예측(서비스개시)\n",
    "- 임의의 값을 넣어본다. \n",
    "- MDCARE_DD_CNT: 28, OPRTN_YN: 0, ED_RC_TOT_AMT: 2004440\n",
    "- 결과: array([566837.13433543])"
   ]
  },
  {
   "cell_type": "code",
   "execution_count": 11,
   "id": "d1972a62-fff1-405a-bfa4-11e2a638e81f",
   "metadata": {
    "tags": []
   },
   "outputs": [
    {
     "data": {
      "text/html": [
       "<div>\n",
       "<style scoped>\n",
       "    .dataframe tbody tr th:only-of-type {\n",
       "        vertical-align: middle;\n",
       "    }\n",
       "\n",
       "    .dataframe tbody tr th {\n",
       "        vertical-align: top;\n",
       "    }\n",
       "\n",
       "    .dataframe thead th {\n",
       "        text-align: right;\n",
       "    }\n",
       "</style>\n",
       "<table border=\"1\" class=\"dataframe\">\n",
       "  <thead>\n",
       "    <tr style=\"text-align: right;\">\n",
       "      <th></th>\n",
       "      <th>Unnamed: 0</th>\n",
       "      <th>MDCARE_DD_CNT</th>\n",
       "      <th>OPRTN_YN</th>\n",
       "      <th>ED_RC_TOT_AMT</th>\n",
       "    </tr>\n",
       "  </thead>\n",
       "  <tbody>\n",
       "    <tr>\n",
       "      <th>136663</th>\n",
       "      <td>136663</td>\n",
       "      <td>15</td>\n",
       "      <td>0</td>\n",
       "      <td>46650</td>\n",
       "    </tr>\n",
       "    <tr>\n",
       "      <th>136664</th>\n",
       "      <td>136664</td>\n",
       "      <td>21</td>\n",
       "      <td>0</td>\n",
       "      <td>60940</td>\n",
       "    </tr>\n",
       "    <tr>\n",
       "      <th>136665</th>\n",
       "      <td>136665</td>\n",
       "      <td>4</td>\n",
       "      <td>0</td>\n",
       "      <td>28490</td>\n",
       "    </tr>\n",
       "    <tr>\n",
       "      <th>136666</th>\n",
       "      <td>136666</td>\n",
       "      <td>21</td>\n",
       "      <td>0</td>\n",
       "      <td>31000</td>\n",
       "    </tr>\n",
       "    <tr>\n",
       "      <th>136667</th>\n",
       "      <td>136667</td>\n",
       "      <td>21</td>\n",
       "      <td>0</td>\n",
       "      <td>31000</td>\n",
       "    </tr>\n",
       "    <tr>\n",
       "      <th>...</th>\n",
       "      <td>...</td>\n",
       "      <td>...</td>\n",
       "      <td>...</td>\n",
       "      <td>...</td>\n",
       "    </tr>\n",
       "    <tr>\n",
       "      <th>137158</th>\n",
       "      <td>137158</td>\n",
       "      <td>7</td>\n",
       "      <td>0</td>\n",
       "      <td>459240</td>\n",
       "    </tr>\n",
       "    <tr>\n",
       "      <th>137159</th>\n",
       "      <td>137159</td>\n",
       "      <td>27</td>\n",
       "      <td>0</td>\n",
       "      <td>1296200</td>\n",
       "    </tr>\n",
       "    <tr>\n",
       "      <th>137160</th>\n",
       "      <td>137160</td>\n",
       "      <td>11</td>\n",
       "      <td>0</td>\n",
       "      <td>945820</td>\n",
       "    </tr>\n",
       "    <tr>\n",
       "      <th>137161</th>\n",
       "      <td>137161</td>\n",
       "      <td>33</td>\n",
       "      <td>0</td>\n",
       "      <td>577940</td>\n",
       "    </tr>\n",
       "    <tr>\n",
       "      <th>137162</th>\n",
       "      <td>137162</td>\n",
       "      <td>28</td>\n",
       "      <td>0</td>\n",
       "      <td>2004440</td>\n",
       "    </tr>\n",
       "  </tbody>\n",
       "</table>\n",
       "<p>500 rows × 4 columns</p>\n",
       "</div>"
      ],
      "text/plain": [
       "        Unnamed: 0  MDCARE_DD_CNT  OPRTN_YN  ED_RC_TOT_AMT\n",
       "136663      136663             15         0          46650\n",
       "136664      136664             21         0          60940\n",
       "136665      136665              4         0          28490\n",
       "136666      136666             21         0          31000\n",
       "136667      136667             21         0          31000\n",
       "...            ...            ...       ...            ...\n",
       "137158      137158              7         0         459240\n",
       "137159      137159             27         0        1296200\n",
       "137160      137160             11         0         945820\n",
       "137161      137161             33         0         577940\n",
       "137162      137162             28         0        2004440\n",
       "\n",
       "[500 rows x 4 columns]"
      ]
     },
     "execution_count": 11,
     "metadata": {},
     "output_type": "execute_result"
    }
   ],
   "source": [
    "df_M20_amount[-500:] # 임의적으로 값 넣기"
   ]
  },
  {
   "cell_type": "code",
   "execution_count": 13,
   "id": "621a5ff7-6417-4bcc-867c-11951d278e3f",
   "metadata": {
    "tags": []
   },
   "outputs": [],
   "source": [
    "# 28, 0\n",
    "temp = [[28, 0]]"
   ]
  },
  {
   "cell_type": "code",
   "execution_count": 14,
   "id": "9ce8466c-1bb9-4ed9-ba0c-2088fe00419c",
   "metadata": {
    "tags": []
   },
   "outputs": [
    {
     "name": "stderr",
     "output_type": "stream",
     "text": [
      "C:\\Users\\01-15\\anaconda3\\Lib\\site-packages\\sklearn\\base.py:439: UserWarning: X does not have valid feature names, but LinearRegression was fitted with feature names\n",
      "  warnings.warn(\n"
     ]
    },
    {
     "data": {
      "text/plain": [
       "array([566837.13433543])"
      ]
     },
     "execution_count": 14,
     "metadata": {},
     "output_type": "execute_result"
    }
   ],
   "source": [
    "model.predict(temp)"
   ]
  },
  {
   "cell_type": "code",
   "execution_count": null,
   "id": "740c3ff9-cc3e-480f-9c9c-4257c725c56f",
   "metadata": {},
   "outputs": [],
   "source": []
  }
 ],
 "metadata": {
  "kernelspec": {
   "display_name": "Python 3 (ipykernel)",
   "language": "python",
   "name": "python3"
  },
  "language_info": {
   "codemirror_mode": {
    "name": "ipython",
    "version": 3
   },
   "file_extension": ".py",
   "mimetype": "text/x-python",
   "name": "python",
   "nbconvert_exporter": "python",
   "pygments_lexer": "ipython3",
   "version": "3.11.3"
  }
 },
 "nbformat": 4,
 "nbformat_minor": 5
}
